{
 "cells": [
  {
   "cell_type": "markdown",
   "metadata": {},
   "source": [
    "# TP Python - Boucles For et While"
   ]
  },
  {
   "cell_type": "markdown",
   "metadata": {},
   "source": [
    "Pour répondre au mécontentement des enseignants, le ministre de l’Education Nationale a décidé <b>d’augmenter leur salaire de 3% chaque année </b> à partir du 1er janvier 2020.<br>\n",
    "Prenons l’exemple de M.Maurice, professeur de mathématiques au lyéce Honoré de Balzac. En 2019, M.Maurice avait un salaire de 2000 euros net par mois.\n"
   ]
  },
  {
   "cell_type": "markdown",
   "metadata": {},
   "source": [
    "<b>Question 1</b>: Compléter l’algo Python ci dessous aﬁn qu’il affiche le <b>salaire de M.Maurice en 2024</b>.<br>\n",
    "Rappel: la fonction `range(n)` permet de répéter <b>n fois</b> une instruction\n"
   ]
  },
  {
   "cell_type": "code",
   "execution_count": 5,
   "metadata": {},
   "outputs": [
    {
     "name": "stdout",
     "output_type": "stream",
     "text": [
      "2318.5481486000003\n"
     ]
    }
   ],
   "source": [
    "s=......\n",
    "for i in range(...): \n",
    "    s=.....\n",
    "print(...)\n"
   ]
  },
  {
   "cell_type": "markdown",
   "metadata": {},
   "source": [
    "<b>Question 2</b>: Modifier l’algo précédent aﬁn qu’il affiche à l'écran la phrase : \"le salaire de M.Maurice sera de .... euros\", et avec un arrondi à l'euro près.<br>\n",
    "On utilisera pour l'arrondi la fonction 'round', et l'affichage de <b>chaînes de caractères</b> (texte) dont des exemples d'utilisation sont donnés ci-dessous:\n"
   ]
  },
  {
   "cell_type": "code",
   "execution_count": 15,
   "metadata": {},
   "outputs": [
    {
     "name": "stdout",
     "output_type": "stream",
     "text": [
      "2\n",
      "2.2\n",
      "2.25\n"
     ]
    }
   ],
   "source": [
    "n=2.24567\n",
    "print(round(n))\n",
    "print(round(n,1))\n",
    "print(round(n,2))\n"
   ]
  },
  {
   "cell_type": "code",
   "execution_count": 16,
   "metadata": {},
   "outputs": [
    {
     "name": "stdout",
     "output_type": "stream",
     "text": [
      "le double de mon age est: 66\n"
     ]
    }
   ],
   "source": [
    "age=33\n",
    "print('le double de mon age est:',2*age)"
   ]
  },
  {
   "cell_type": "markdown",
   "metadata": {},
   "source": [
    "<b>Question 3</b>: M.Maurice aimerait savoir à partir de quelle année il gagnera <b>plus de 3000 euros </b> par mois.<br>\n",
    "    Compléter l’algo ci-dessous pour le renseigner. Rappel: la boucle `while` permet de répéter une instruction <b>tant que</b> un test est vérifié.\n"
   ]
  },
  {
   "cell_type": "code",
   "execution_count": 11,
   "metadata": {},
   "outputs": [
    {
     "name": "stdout",
     "output_type": "stream",
     "text": [
      "2033\n"
     ]
    }
   ],
   "source": [
    "s=....\n",
    "n=2019\n",
    "while ......:\n",
    "    s=.......\n",
    "    n=......\n",
    "print(...)"
   ]
  },
  {
   "cell_type": "markdown",
   "metadata": {},
   "source": [
    "<b>Question 4</b>: Modifier l'algo précédent de manière à ce qu'il affiche le salaire de M.Maurice chaque année jusqu'à ce qu'il atteigne 3000 euros, de la manière suivante:<br>\n",
    "salaire en  2019 : 2000 euros<br>\n",
    "salaire en  2020 : 2060 euros<br>\n",
    "salaire en  2021 : 2122 euros<br>\n",
    "......\n"
   ]
  },
  {
   "cell_type": "code",
   "execution_count": 17,
   "metadata": {},
   "outputs": [
    {
     "name": "stdout",
     "output_type": "stream",
     "text": [
      "salaire en  2019 : 2000 euros\n",
      "salaire en  2020 : 2060 euros\n",
      "salaire en  2021 : 2122 euros\n",
      "salaire en  2022 : 2185 euros\n",
      "salaire en  2023 : 2251 euros\n",
      "salaire en  2024 : 2319 euros\n",
      "salaire en  2025 : 2388 euros\n",
      "salaire en  2026 : 2460 euros\n",
      "salaire en  2027 : 2534 euros\n",
      "salaire en  2028 : 2610 euros\n",
      "salaire en  2029 : 2688 euros\n",
      "salaire en  2030 : 2768 euros\n",
      "salaire en  2031 : 2852 euros\n",
      "salaire en  2032 : 2937 euros\n"
     ]
    }
   ],
   "source": [
    "s=....\n",
    "n=2019\n",
    "while .....:\n",
    "    print(.......)\n",
    "    s=.....\n",
    "    n=.....\n"
   ]
  },
  {
   "cell_type": "code",
   "execution_count": null,
   "metadata": {},
   "outputs": [],
   "source": []
  }
 ],
 "metadata": {
  "kernelspec": {
   "display_name": "Python 3",
   "language": "python",
   "name": "python3"
  },
  "language_info": {
   "codemirror_mode": {
    "name": "ipython",
    "version": 3
   },
   "file_extension": ".py",
   "mimetype": "text/x-python",
   "name": "python",
   "nbconvert_exporter": "python",
   "pygments_lexer": "ipython3",
   "version": "3.7.4"
  }
 },
 "nbformat": 4,
 "nbformat_minor": 2
}
